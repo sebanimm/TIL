{
	"cells": [
		{
			"cell_type": "code",
			"execution_count": 30,
			"metadata": {},
			"outputs": [],
			"source": [
				"# !pip3 install pandas\n",
				"# !pip3 install sentence_transformers\n",
				"# !pip3 install sklearn"
			]
		},
		{
			"cell_type": "code",
			"execution_count": 31,
			"metadata": {},
			"outputs": [],
			"source": [
				"import pandas as pd\n",
				"from sentence_transformers import SentenceTransformer\n",
				"from sklearn.metrics.pairwise import cosine_similarity"
			]
		},
		{
			"cell_type": "code",
			"execution_count": 32,
			"metadata": {},
			"outputs": [
				{
					"data": {
						"text/html": [
							"<div>\n",
							"<style scoped>\n",
							"    .dataframe tbody tr th:only-of-type {\n",
							"        vertical-align: middle;\n",
							"    }\n",
							"\n",
							"    .dataframe tbody tr th {\n",
							"        vertical-align: top;\n",
							"    }\n",
							"\n",
							"    .dataframe thead th {\n",
							"        text-align: right;\n",
							"    }\n",
							"</style>\n",
							"<table border=\"1\" class=\"dataframe\">\n",
							"  <thead>\n",
							"    <tr style=\"text-align: right;\">\n",
							"      <th></th>\n",
							"      <th>구분</th>\n",
							"      <th>유저</th>\n",
							"      <th>챗봇</th>\n",
							"    </tr>\n",
							"  </thead>\n",
							"  <tbody>\n",
							"    <tr>\n",
							"      <th>0</th>\n",
							"      <td>질의응답</td>\n",
							"      <td>권세원</td>\n",
							"      <td>게이</td>\n",
							"    </tr>\n",
							"    <tr>\n",
							"      <th>1</th>\n",
							"      <td>질의응답</td>\n",
							"      <td>김나현</td>\n",
							"      <td>쌉게이</td>\n",
							"    </tr>\n",
							"    <tr>\n",
							"      <th>2</th>\n",
							"      <td>일반대화</td>\n",
							"      <td>안녕하세요</td>\n",
							"      <td>아 반갑습니다 유흥업 종사자 다카나 입니다</td>\n",
							"    </tr>\n",
							"    <tr>\n",
							"      <th>3</th>\n",
							"      <td>학교홍보</td>\n",
							"      <td>학교 관련 사이트가 있나요?</td>\n",
							"      <td>학교 공식 사이트와 학생들이 만든 사이트 또한 여러개가 있습니다.</td>\n",
							"    </tr>\n",
							"    <tr>\n",
							"      <th>4</th>\n",
							"      <td>질의응답</td>\n",
							"      <td>코딩테스트는 어떤 방식으로 치나요?</td>\n",
							"      <td>문제는 시험지로 주어질 것이고 사용할 수 있는 프로그래밍 언어로는 C언어를 사용합니...</td>\n",
							"    </tr>\n",
							"  </tbody>\n",
							"</table>\n",
							"</div>"
						],
						"text/plain": [
							"     구분                   유저  \\\n",
							"0  질의응답                  권세원   \n",
							"1  질의응답                  김나현   \n",
							"2  일반대화                안녕하세요   \n",
							"3  학교홍보      학교 관련 사이트가 있나요?   \n",
							"4  질의응답  코딩테스트는 어떤 방식으로 치나요?   \n",
							"\n",
							"                                                  챗봇  \n",
							"0                                                 게이  \n",
							"1                                                쌉게이  \n",
							"2                            아 반갑습니다 유흥업 종사자 다카나 입니다  \n",
							"3               학교 공식 사이트와 학생들이 만든 사이트 또한 여러개가 있습니다.  \n",
							"4  문제는 시험지로 주어질 것이고 사용할 수 있는 프로그래밍 언어로는 C언어를 사용합니...  "
						]
					},
					"execution_count": 32,
					"metadata": {},
					"output_type": "execute_result"
				}
			],
			"source": [
				"df = pd.read_csv('book - book - 시트1.csv')\n",
				"\n",
				"df.head()"
			]
		},
		{
			"cell_type": "code",
			"execution_count": 33,
			"metadata": {},
			"outputs": [
				{
					"name": "stdout",
					"output_type": "stream",
					"text": [
						"[[ 0.16010624 -0.5379784  -0.04167305 ...  0.39306408  0.31267604\n",
						"  -0.41662103]\n",
						" [ 0.16010624 -0.5379784  -0.04167305 ...  0.39306408  0.31267604\n",
						"  -0.41662103]]\n"
					]
				}
			],
			"source": [
				"model = SentenceTransformer('jhgan/ko-sroberta-multitask')\n",
				"sentences = [\"\", \"\"]\n",
				"embeddings = model.encode(sentences)\n",
				"print(embeddings)"
			]
		},
		{
			"cell_type": "code",
			"execution_count": 34,
			"metadata": {},
			"outputs": [],
			"source": [
				"df['embedding'] = df['유저'].map(lambda x: list(model.encode(x)))"
			]
		},
		{
			"cell_type": "code",
			"execution_count": 35,
			"metadata": {},
			"outputs": [
				{
					"name": "stdout",
					"output_type": "stream",
					"text": [
						"       구분                   유저  \\\n",
						"0    질의응답                  권세원   \n",
						"1    질의응답                  김나현   \n",
						"2    일반대화                안녕하세요   \n",
						"3    학교홍보      학교 관련 사이트가 있나요?   \n",
						"4    질의응답  코딩테스트는 어떤 방식으로 치나요?   \n",
						"..    ...                  ...   \n",
						"139  일상대화                   사표   \n",
						"140  일상대화                  범내골   \n",
						"141  일상대화                  지우개   \n",
						"142  일상대화                 개구릿대   \n",
						"143  일상대화                  루니오   \n",
						"\n",
						"                                                    챗봇  \\\n",
						"0                                                   게이   \n",
						"1                                                  쌉게이   \n",
						"2                              아 반갑습니다 유흥업 종사자 다카나 입니다   \n",
						"3                 학교 공식 사이트와 학생들이 만든 사이트 또한 여러개가 있습니다.   \n",
						"4    문제는 시험지로 주어질 것이고 사용할 수 있는 프로그래밍 언어로는 C언어를 사용합니...   \n",
						"..                                                 ...   \n",
						"139                                                 표범   \n",
						"140                                                골판지   \n",
						"141                                                개구리   \n",
						"142                                              형님...   \n",
						"143                                            『계란후라이』   \n",
						"\n",
						"                                             embedding  \n",
						"0    [0.20007312, -0.49810353, 0.7738085, -0.060823...  \n",
						"1    [0.29854667, -0.34032875, 0.14076647, -1.10258...  \n",
						"2    [-0.17859319, -0.56129384, 0.4462766, -0.15060...  \n",
						"3    [-0.0937233, -0.047051635, -0.09156271, -0.083...  \n",
						"4    [-0.93914986, -0.21298167, 0.085217275, -0.882...  \n",
						"..                                                 ...  \n",
						"139  [-0.07241491, -0.5050433, 0.5124685, -0.211583...  \n",
						"140  [-0.62766093, 0.032126296, -0.6117803, -0.5914...  \n",
						"141  [0.16735406, -0.07160998, 0.10313406, 0.191335...  \n",
						"142  [-0.23299241, -0.5887827, -0.036610022, 0.1937...  \n",
						"143  [-0.042659495, -0.30352786, 0.6635018, -0.2642...  \n",
						"\n",
						"[144 rows x 4 columns]\n"
					]
				}
			],
			"source": [
				"df.to_csv(\"book - book - 시트1.csv\", index = False)\n",
				"print(df)"
			]
		},
		{
			"cell_type": "code",
			"execution_count": 36,
			"metadata": {},
			"outputs": [],
			"source": [
				"text = \"메이플\"\n",
				"\n",
				"embedding = model.encode(text)"
			]
		},
		{
			"cell_type": "code",
			"execution_count": 37,
			"metadata": {},
			"outputs": [
				{
					"data": {
						"text/html": [
							"<div>\n",
							"<style scoped>\n",
							"    .dataframe tbody tr th:only-of-type {\n",
							"        vertical-align: middle;\n",
							"    }\n",
							"\n",
							"    .dataframe tbody tr th {\n",
							"        vertical-align: top;\n",
							"    }\n",
							"\n",
							"    .dataframe thead th {\n",
							"        text-align: right;\n",
							"    }\n",
							"</style>\n",
							"<table border=\"1\" class=\"dataframe\">\n",
							"  <thead>\n",
							"    <tr style=\"text-align: right;\">\n",
							"      <th></th>\n",
							"      <th>구분</th>\n",
							"      <th>유저</th>\n",
							"      <th>챗봇</th>\n",
							"      <th>embedding</th>\n",
							"      <th>distance</th>\n",
							"    </tr>\n",
							"  </thead>\n",
							"  <tbody>\n",
							"    <tr>\n",
							"      <th>0</th>\n",
							"      <td>질의응답</td>\n",
							"      <td>권세원</td>\n",
							"      <td>게이</td>\n",
							"      <td>[0.20007312, -0.49810353, 0.7738085, -0.060823...</td>\n",
							"      <td>0.312869</td>\n",
							"    </tr>\n",
							"    <tr>\n",
							"      <th>1</th>\n",
							"      <td>질의응답</td>\n",
							"      <td>김나현</td>\n",
							"      <td>쌉게이</td>\n",
							"      <td>[0.29854667, -0.34032875, 0.14076647, -1.10258...</td>\n",
							"      <td>0.315664</td>\n",
							"    </tr>\n",
							"    <tr>\n",
							"      <th>2</th>\n",
							"      <td>일반대화</td>\n",
							"      <td>안녕하세요</td>\n",
							"      <td>아 반갑습니다 유흥업 종사자 다카나 입니다</td>\n",
							"      <td>[-0.17859319, -0.56129384, 0.4462766, -0.15060...</td>\n",
							"      <td>0.402223</td>\n",
							"    </tr>\n",
							"    <tr>\n",
							"      <th>3</th>\n",
							"      <td>학교홍보</td>\n",
							"      <td>학교 관련 사이트가 있나요?</td>\n",
							"      <td>학교 공식 사이트와 학생들이 만든 사이트 또한 여러개가 있습니다.</td>\n",
							"      <td>[-0.0937233, -0.047051635, -0.09156271, -0.083...</td>\n",
							"      <td>0.235558</td>\n",
							"    </tr>\n",
							"    <tr>\n",
							"      <th>4</th>\n",
							"      <td>질의응답</td>\n",
							"      <td>코딩테스트는 어떤 방식으로 치나요?</td>\n",
							"      <td>문제는 시험지로 주어질 것이고 사용할 수 있는 프로그래밍 언어로는 C언어를 사용합니...</td>\n",
							"      <td>[-0.93914986, -0.21298167, 0.085217275, -0.882...</td>\n",
							"      <td>0.224436</td>\n",
							"    </tr>\n",
							"  </tbody>\n",
							"</table>\n",
							"</div>"
						],
						"text/plain": [
							"     구분                   유저  \\\n",
							"0  질의응답                  권세원   \n",
							"1  질의응답                  김나현   \n",
							"2  일반대화                안녕하세요   \n",
							"3  학교홍보      학교 관련 사이트가 있나요?   \n",
							"4  질의응답  코딩테스트는 어떤 방식으로 치나요?   \n",
							"\n",
							"                                                  챗봇  \\\n",
							"0                                                 게이   \n",
							"1                                                쌉게이   \n",
							"2                            아 반갑습니다 유흥업 종사자 다카나 입니다   \n",
							"3               학교 공식 사이트와 학생들이 만든 사이트 또한 여러개가 있습니다.   \n",
							"4  문제는 시험지로 주어질 것이고 사용할 수 있는 프로그래밍 언어로는 C언어를 사용합니...   \n",
							"\n",
							"                                           embedding  distance  \n",
							"0  [0.20007312, -0.49810353, 0.7738085, -0.060823...  0.312869  \n",
							"1  [0.29854667, -0.34032875, 0.14076647, -1.10258...  0.315664  \n",
							"2  [-0.17859319, -0.56129384, 0.4462766, -0.15060...  0.402223  \n",
							"3  [-0.0937233, -0.047051635, -0.09156271, -0.083...  0.235558  \n",
							"4  [-0.93914986, -0.21298167, 0.085217275, -0.882...  0.224436  "
						]
					},
					"execution_count": 37,
					"metadata": {},
					"output_type": "execute_result"
				}
			],
			"source": [
				"df[\"distance\"] = df[\"embedding\"].map(lambda x: cosine_similarity([embedding], [x]).squeeze())\n",
				"\n",
				"df.head()"
			]
		},
		{
			"cell_type": "code",
			"execution_count": 38,
			"metadata": {},
			"outputs": [
				{
					"name": "stdout",
					"output_type": "stream",
					"text": [
						"질의응답\n",
						"메이플\n",
						"최고다\n",
						"1.0\n"
					]
				}
			],
			"source": [
				"answer = df.loc[df[\"distance\"].idxmax()]\n",
				"\n",
				"print(answer[\"구분\"])\n",
				"print(answer[\"유저\"])\n",
				"print(answer[\"챗봇\"])\n",
				"print(answer[\"distance\"])"
			]
		},
		{
			"cell_type": "code",
			"execution_count": 39,
			"metadata": {},
			"outputs": [],
			"source": [
				"# !pip3 install streamlit"
			]
		}
	],
	"metadata": {
		"kernelspec": {
			"display_name": "Python 3",
			"language": "python",
			"name": "python3"
		},
		"language_info": {
			"codemirror_mode": {
				"name": "ipython",
				"version": 3
			},
			"file_extension": ".py",
			"mimetype": "text/x-python",
			"name": "python",
			"nbconvert_exporter": "python",
			"pygments_lexer": "ipython3",
			"version": "3.9.12"
		},
		"orig_nbformat": 4,
		"vscode": {
			"interpreter": {
				"hash": "82ed002fa2d4956f5c6aec99bcefe0f73a9f79882f3c9e2319b14958a5896ac5"
			}
		}
	},
	"nbformat": 4,
	"nbformat_minor": 2
}
